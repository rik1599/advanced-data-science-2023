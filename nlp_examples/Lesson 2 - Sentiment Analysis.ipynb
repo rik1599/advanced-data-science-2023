{
 "cells": [
  {
   "cell_type": "code",
   "execution_count": 11,
   "id": "fdaff0d7",
   "metadata": {},
   "outputs": [],
   "source": [
    "import pandas as pd\n",
    "import ssl\n",
    "\n",
    "try:\n",
    "    _create_unverified_https_context = ssl._create_unverified_context\n",
    "except AttributeError:\n",
    "    pass\n",
    "else:\n",
    "    ssl._create_default_https_context = _create_unverified_https_context"
   ]
  },
  {
   "cell_type": "code",
   "execution_count": 12,
   "id": "1e9a706a",
   "metadata": {},
   "outputs": [],
   "source": [
    "df = pd.read_csv('https://raw.githubusercontent.com/pycaret/pycaret/master/datasets/amazon.csv')"
   ]
  },
  {
   "cell_type": "code",
   "execution_count": 13,
   "id": "106d2e5b",
   "metadata": {},
   "outputs": [
    {
     "name": "stdout",
     "output_type": "stream",
     "text": [
      "                                          reviewText  Positive\n",
      "0  This is a one of the best apps acording to a b...         1\n",
      "1  This is a pretty good version of the game for ...         1\n",
      "2  this is a really cool game. there are a bunch ...         1\n",
      "                                              reviewText  Positive\n",
      "19997  love it!  this game. is awesome. wish it had m...         1\n",
      "19998  I love love love this app on my side of fashio...         1\n",
      "19999  This game is a rip off. Here is a list of thin...         0\n"
     ]
    }
   ],
   "source": [
    "print(df.head(3))\n",
    "print(df.tail(3))"
   ]
  },
  {
   "cell_type": "code",
   "execution_count": 14,
   "id": "37953b56",
   "metadata": {},
   "outputs": [
    {
     "data": {
      "text/plain": [
       "0        This is a one of the best apps acording to a b...\n",
       "1        This is a pretty good version of the game for ...\n",
       "2        this is a really cool game. there are a bunch ...\n",
       "3        This is a silly game and can be frustrating, b...\n",
       "4        This is a terrific game on any pad. Hrs of fun...\n",
       "                               ...                        \n",
       "19995    this app is fricken stupid.it froze on the kin...\n",
       "19996    Please add me!!!!! I need neighbors! Ginger101...\n",
       "19997    love it!  this game. is awesome. wish it had m...\n",
       "19998    I love love love this app on my side of fashio...\n",
       "19999    This game is a rip off. Here is a list of thin...\n",
       "Name: reviewText, Length: 20000, dtype: object"
      ]
     },
     "execution_count": 14,
     "metadata": {},
     "output_type": "execute_result"
    }
   ],
   "source": [
    "df['reviewText']"
   ]
  },
  {
   "cell_type": "code",
   "execution_count": 15,
   "id": "fe1cc17b",
   "metadata": {},
   "outputs": [
    {
     "data": {
      "text/plain": [
       "0        1\n",
       "1        1\n",
       "2        1\n",
       "3        1\n",
       "4        1\n",
       "        ..\n",
       "19995    0\n",
       "19996    1\n",
       "19997    1\n",
       "19998    1\n",
       "19999    0\n",
       "Name: Positive, Length: 20000, dtype: int64"
      ]
     },
     "execution_count": 15,
     "metadata": {},
     "output_type": "execute_result"
    }
   ],
   "source": [
    "df['Positive']"
   ]
  },
  {
   "cell_type": "code",
   "execution_count": 16,
   "id": "aa950a46",
   "metadata": {},
   "outputs": [
    {
     "data": {
      "text/plain": [
       "reviewText    This is a one of the best apps acording to a b...\n",
       "Positive                                                      1\n",
       "Name: 0, dtype: object"
      ]
     },
     "execution_count": 16,
     "metadata": {},
     "output_type": "execute_result"
    }
   ],
   "source": [
    "df.loc[0]"
   ]
  },
  {
   "cell_type": "code",
   "execution_count": 17,
   "id": "1d7af44a",
   "metadata": {},
   "outputs": [
    {
     "data": {
      "text/plain": [
       "pandas.core.series.Series"
      ]
     },
     "execution_count": 17,
     "metadata": {},
     "output_type": "execute_result"
    }
   ],
   "source": [
    "type(df.loc[0])"
   ]
  },
  {
   "cell_type": "code",
   "execution_count": 18,
   "id": "ad83920d",
   "metadata": {},
   "outputs": [
    {
     "data": {
      "text/plain": [
       "'This is a one of the best apps acording to a bunch of people and I agree it has bombs eggs pigs TNT king pigs and realustic stuff'"
      ]
     },
     "execution_count": 18,
     "metadata": {},
     "output_type": "execute_result"
    }
   ],
   "source": [
    "df.loc[0][0]"
   ]
  },
  {
   "cell_type": "code",
   "execution_count": 19,
   "id": "97ee4b84",
   "metadata": {},
   "outputs": [
    {
     "data": {
      "text/plain": [
       "1"
      ]
     },
     "execution_count": 19,
     "metadata": {},
     "output_type": "execute_result"
    }
   ],
   "source": [
    "df.loc[0][1]"
   ]
  },
  {
   "cell_type": "code",
   "execution_count": 20,
   "id": "1c9f5472",
   "metadata": {},
   "outputs": [],
   "source": [
    "from nltk.corpus import stopwords\n",
    "from nltk.tokenize import word_tokenize\n",
    "from nltk.stem import WordNetLemmatizer\n",
    "from nltk.util import ngrams"
   ]
  },
  {
   "cell_type": "code",
   "execution_count": 21,
   "id": "ace14b92",
   "metadata": {},
   "outputs": [],
   "source": [
    "def preprocess(text, n):\n",
    "\n",
    "    # To lower case and tokenization\n",
    "    tokens = word_tokenize(text.lower())\n",
    "\n",
    "    # Stop word and punctuation removal\n",
    "    filtered_tokens = [token for token in tokens if token.isalpha() and (token not in stopwords.words('english'))]\n",
    "\n",
    "    # Lemmatize the tokens\n",
    "    lemmatizer = WordNetLemmatizer()\n",
    "    lemmatized_tokens = [lemmatizer.lemmatize(token) for token in filtered_tokens]\n",
    "\n",
    "    # NGram generation\n",
    "    ngram_set = set()\n",
    "    \n",
    "    for i in range(1, n + 1):\n",
    "        processed_text = ngrams(lemmatized_tokens, i)\n",
    "        ngram_set.update([' '.join(grams) for grams in processed_text])\n",
    "\n",
    "    return ngram_set"
   ]
  },
  {
   "cell_type": "code",
   "execution_count": 22,
   "id": "fd808b45",
   "metadata": {},
   "outputs": [],
   "source": [
    "df['reviewText'] = df['reviewText'].apply(preprocess, args=(3,))"
   ]
  },
  {
   "cell_type": "code",
   "execution_count": 23,
   "id": "1a05e012",
   "metadata": {},
   "outputs": [
    {
     "name": "stdout",
     "output_type": "stream",
     "text": [
      "{'king', 'one best apps', 'realustic stuff', 'king pig realustic', 'tnt', 'apps acording bunch', 'king pig', 'bunch', 'best', 'tnt king pig', 'one', 'bomb', 'people agree', 'agree bomb egg', 'best apps acording', 'acording bunch', 'bomb egg pig', 'bomb egg', 'one best', 'egg', 'apps acording', 'best apps', 'tnt king', 'pig realustic stuff', 'pig tnt king', 'stuff', 'bunch people agree', 'acording', 'bunch people', 'apps', 'realustic', 'egg pig tnt', 'people', 'pig tnt', 'agree bomb', 'people agree bomb', 'pig', 'egg pig', 'acording bunch people', 'pig realustic', 'agree'}\n"
     ]
    }
   ],
   "source": [
    "print(df.loc[0][0])"
   ]
  },
  {
   "cell_type": "code",
   "execution_count": 24,
   "id": "2d090b51",
   "metadata": {},
   "outputs": [],
   "source": [
    "from collections import defaultdict"
   ]
  },
  {
   "cell_type": "code",
   "execution_count": 25,
   "id": "7edf9317",
   "metadata": {},
   "outputs": [],
   "source": [
    "def build_dictionary(df, attribute):\n",
    "    dictionary = defaultdict(set)\n",
    "    \n",
    "    for idx, record in enumerate(df[attribute]):\n",
    "        for token in record:\n",
    "            dictionary[token].add(idx)\n",
    "    \n",
    "    return dictionary"
   ]
  },
  {
   "cell_type": "code",
   "execution_count": 26,
   "id": "4367ce37",
   "metadata": {},
   "outputs": [
    {
     "name": "stdout",
     "output_type": "stream",
     "text": [
      "['king', 'one best apps', 'realustic stuff', 'king pig realustic', 'tnt', 'apps acording bunch', 'king pig', 'bunch', 'best', 'tnt king pig']\n",
      "\n",
      "Number of distinct tokens: 455309\n",
      "Number of records: 20000\n",
      "\n",
      "Number of data: 9,106,180,000\n"
     ]
    }
   ],
   "source": [
    "dictionary = build_dictionary(df, 'reviewText')\n",
    "\n",
    "print(list(dictionary.keys())[:10])\n",
    "print()\n",
    "print('Number of distinct tokens:', len(dictionary))\n",
    "print('Number of records:', len(df))\n",
    "print()\n",
    "print('Number of data:', \"{:,}\".format(len(dictionary) * len(df)))"
   ]
  },
  {
   "cell_type": "code",
   "execution_count": 27,
   "id": "75f55942",
   "metadata": {},
   "outputs": [],
   "source": [
    "df_dict = pd.DataFrame(zip(dictionary.keys(), dictionary.values()), columns=['Tokens', 'Messages'])\n",
    "count = []\n",
    "\n",
    "for mess in df_dict['Messages']:\n",
    "    count.append(len(mess))\n",
    "\n",
    "df_dict['Count'] = count"
   ]
  },
  {
   "cell_type": "code",
   "execution_count": 28,
   "id": "1ad8c38d",
   "metadata": {},
   "outputs": [
    {
     "data": {
      "text/html": [
       "<div>\n",
       "<style scoped>\n",
       "    .dataframe tbody tr th:only-of-type {\n",
       "        vertical-align: middle;\n",
       "    }\n",
       "\n",
       "    .dataframe tbody tr th {\n",
       "        vertical-align: top;\n",
       "    }\n",
       "\n",
       "    .dataframe thead th {\n",
       "        text-align: right;\n",
       "    }\n",
       "</style>\n",
       "<table border=\"1\" class=\"dataframe\">\n",
       "  <thead>\n",
       "    <tr style=\"text-align: right;\">\n",
       "      <th></th>\n",
       "      <th>Tokens</th>\n",
       "      <th>Messages</th>\n",
       "      <th>Count</th>\n",
       "    </tr>\n",
       "  </thead>\n",
       "  <tbody>\n",
       "    <tr>\n",
       "      <th>0</th>\n",
       "      <td>king</td>\n",
       "      <td>{0, 8960, 8961, 7556, 15879, 2953, 5643, 7437,...</td>\n",
       "      <td>33</td>\n",
       "    </tr>\n",
       "    <tr>\n",
       "      <th>1</th>\n",
       "      <td>one best apps</td>\n",
       "      <td>{0, 7939, 14084, 8197, 11654, 6923, 14, 3214, ...</td>\n",
       "      <td>29</td>\n",
       "    </tr>\n",
       "    <tr>\n",
       "      <th>2</th>\n",
       "      <td>realustic stuff</td>\n",
       "      <td>{0}</td>\n",
       "      <td>1</td>\n",
       "    </tr>\n",
       "    <tr>\n",
       "      <th>3</th>\n",
       "      <td>king pig realustic</td>\n",
       "      <td>{0}</td>\n",
       "      <td>1</td>\n",
       "    </tr>\n",
       "    <tr>\n",
       "      <th>4</th>\n",
       "      <td>tnt</td>\n",
       "      <td>{0}</td>\n",
       "      <td>1</td>\n",
       "    </tr>\n",
       "  </tbody>\n",
       "</table>\n",
       "</div>"
      ],
      "text/plain": [
       "               Tokens                                           Messages   \n",
       "0                king  {0, 8960, 8961, 7556, 15879, 2953, 5643, 7437,...  \\\n",
       "1       one best apps  {0, 7939, 14084, 8197, 11654, 6923, 14, 3214, ...   \n",
       "2     realustic stuff                                                {0}   \n",
       "3  king pig realustic                                                {0}   \n",
       "4                 tnt                                                {0}   \n",
       "\n",
       "   Count  \n",
       "0     33  \n",
       "1     29  \n",
       "2      1  \n",
       "3      1  \n",
       "4      1  "
      ]
     },
     "execution_count": 28,
     "metadata": {},
     "output_type": "execute_result"
    }
   ],
   "source": [
    "df_dict.head()"
   ]
  },
  {
   "cell_type": "code",
   "execution_count": 29,
   "id": "1aad8ff1",
   "metadata": {},
   "outputs": [
    {
     "data": {
      "text/plain": [
       "404224"
      ]
     },
     "execution_count": 29,
     "metadata": {},
     "output_type": "execute_result"
    }
   ],
   "source": [
    "(df_dict['Count'] == 1).astype(int).sum()"
   ]
  },
  {
   "cell_type": "code",
   "execution_count": 30,
   "id": "61948a25",
   "metadata": {},
   "outputs": [],
   "source": [
    "singletons = df_dict.loc[df_dict['Count'] == 1]"
   ]
  },
  {
   "cell_type": "code",
   "execution_count": 31,
   "id": "8935c2a2",
   "metadata": {},
   "outputs": [],
   "source": [
    "def remove_singletons(df, singletons):\n",
    "    for _, (token, messages, _) in singletons.iterrows():\n",
    "        for message in messages:\n",
    "            df['reviewText'].loc[message].remove(token)"
   ]
  },
  {
   "cell_type": "code",
   "execution_count": 32,
   "id": "d91ca128",
   "metadata": {},
   "outputs": [],
   "source": [
    "remove_singletons(df, singletons)"
   ]
  },
  {
   "cell_type": "code",
   "execution_count": 33,
   "id": "cf25eb8d",
   "metadata": {},
   "outputs": [
    {
     "name": "stdout",
     "output_type": "stream",
     "text": [
      "{'king', 'one best apps', 'bunch', 'best', 'one', 'bomb', 'one best', 'egg', 'best apps', 'stuff', 'bunch people', 'apps', 'people', 'pig', 'agree'}\n",
      "\n",
      "Number of distinct tokens: 51085\n",
      "Number of records: 20000\n",
      "\n",
      "Number of data: 1,021,700,000\n"
     ]
    }
   ],
   "source": [
    "print(df.loc[0][0])\n",
    "\n",
    "dictionary = build_dictionary(df, 'reviewText')\n",
    "\n",
    "print()\n",
    "print('Number of distinct tokens:', len(dictionary))\n",
    "print('Number of records:', len(df))\n",
    "print()\n",
    "print('Number of data:', \"{:,}\".format(len(dictionary) * len(df)))"
   ]
  },
  {
   "cell_type": "code",
   "execution_count": 34,
   "id": "e93545bd",
   "metadata": {},
   "outputs": [],
   "source": [
    "import numpy as np"
   ]
  },
  {
   "cell_type": "code",
   "execution_count": 35,
   "id": "7ea70d1d",
   "metadata": {},
   "outputs": [],
   "source": [
    "def entropy(df):\n",
    "    pos = df['Positive'].sum()\n",
    "    neg = len(df) - pos\n",
    "    \n",
    "    p_pos = pos / len(df)\n",
    "    p_neg = neg / len(df)\n",
    "    \n",
    "    h = 0\n",
    "    \n",
    "    for p in [p_pos, p_neg]:\n",
    "        h -= 0 if p == 0 else p * np.log(p)\n",
    "    \n",
    "    return h"
   ]
  },
  {
   "cell_type": "code",
   "execution_count": 36,
   "id": "214b1aa5",
   "metadata": {},
   "outputs": [
    {
     "name": "stdout",
     "output_type": "stream",
     "text": [
      "0.5491705321540394\n"
     ]
    }
   ],
   "source": [
    "H = entropy(df)\n",
    "print(H)"
   ]
  },
  {
   "cell_type": "code",
   "execution_count": 37,
   "id": "8844b22c",
   "metadata": {},
   "outputs": [],
   "source": [
    "ig = dict()\n",
    "\n",
    "for token in dictionary:\n",
    "    messages = list(dictionary[token])\n",
    "    df_with_token = df.loc[messages]\n",
    "    df_without_token = df.drop(df.loc[messages].index)\n",
    "    \n",
    "    ig[token] = H - len(df_with_token)/len(df) * entropy(df_with_token)\n",
    "    ig[token] -= len(df_without_token)/len(df) * entropy(df_without_token)"
   ]
  },
  {
   "cell_type": "code",
   "execution_count": 38,
   "id": "72cf531b",
   "metadata": {},
   "outputs": [
    {
     "name": "stdout",
     "output_type": "stream",
     "text": [
      "[('love', 0.03423713068659612), ('great', 0.02749101823553607), ('waste', 0.019433481851488965), ('easy', 0.018721601510420016), ('waste time', 0.01175151052995782), ('stupid', 0.009776049267213538), ('deleted', 0.009342441292153891), ('uninstalled', 0.008834937633378614), ('suck', 0.008764031035517927), ('easy use', 0.008499977811319726), ('use', 0.007622975410377264), ('boring', 0.007437891001108254), ('fun', 0.007197578226357582), ('best', 0.007026242071018096), ('worst', 0.006905205111989221), ('awesome', 0.006384358984120819), ('even', 0.006133812595569221), ('love app', 0.00584812569778792), ('useless', 0.005666189457107507), ('fix', 0.005224734309171808), ('would', 0.0051424909352617565), ('horrible', 0.005061346636603292), ('work great', 0.004817497581510843), ('nothing', 0.004798996375906084), ('bad', 0.004672398085784124), ('lot', 0.004449429711658404), ('great app', 0.004198364801874521), ('dumb', 0.00408293414032912), ('alarm', 0.004010418731947851), ('terrible', 0.003968348378481035), ('could', 0.0038883488964545077), ('crap', 0.0037910140813691706), ('highly', 0.003771165097255391), ('perfect', 0.003624795629527666), ('tried', 0.0036016325130702187), ('force', 0.003571322643635799), ('nice', 0.003545084672034182), ('favorite', 0.003507330722646418), ('hate', 0.0034786602577403514), ('enjoy', 0.0034397588482205643), ('install', 0.003334035831313198), ('well', 0.003077975681397449), ('bible', 0.003040773448674483), ('app suck', 0.00298996209771063), ('uninstall', 0.002933157737391001), ('waste money', 0.0028921425738126505), ('addictive', 0.002846784756225018), ('simple', 0.0028340233630820277), ('dont', 0.002828852219011191), ('highly recommend', 0.002814038882630876), ('app great', 0.002813759705934782), ('please fix', 0.0027890895708052588), ('amazing', 0.002723833746760551), ('worst app', 0.00270846321607765), ('wo', 0.002705879516920695), ('get app', 0.002629281695486263), ('recommend', 0.0026003631831615914), ('anything', 0.002547390467783517), ('get', 0.0025050496220854757), ('please', 0.0024871223486675476), ('love game', 0.0024743407289927744), ('challenging', 0.00246575349083622), ('dont get', 0.0024227390422409956), ('wonderful', 0.002419152088618315), ('stink', 0.002393032814092977), ('force close', 0.0023560571239217287), ('removed', 0.0023263171818028727), ('wake', 0.0023194385189830857), ('crash', 0.002307148002773207), ('download', 0.0022886656773728475), ('addicting', 0.002256817110077969), ('keep', 0.0022352423851358383), ('thought', 0.0022223729703365613), ('cant', 0.002177594039619146), ('could get', 0.0021490773996513113), ('great game', 0.002138517698545561), ('excellent', 0.002131143853774442), ('handy', 0.0021059639532085006), ('lame', 0.0021000986171593183), ('money', 0.0020848892080278514), ('especially', 0.00207908007523816), ('lot fun', 0.002077255262410982), ('space', 0.0020644953276660605), ('unless', 0.0020594079952271915), ('try', 0.002050935024775935), ('different', 0.002020106010899858), ('worst app ever', 0.0020176113064672707), ('puzzle', 0.0019933636368916208), ('sorry', 0.0019853892457518674), ('really like', 0.001968355912514763), ('close', 0.001958194296576843), ('worst game', 0.0019388391188359666), ('poor', 0.0019380108145038433), ('clock', 0.0019316785224094968), ('delete', 0.0018914742668625362), ('pointless', 0.001889614452901145), ('work kindle', 0.0018887878822015924), ('worthless', 0.0018764030075832938), ('screen', 0.0018178960144848988), ('one best', 0.0018080984670792999), ('disappointed', 0.0018014251956822713), ('allows', 0.0017970853654737384), ('track', 0.0017883057596084218), ('junk', 0.0017659131612394185), ('waste space', 0.001759842511046661), ('buy', 0.0017598339807043395), ('task killer', 0.0017526221456934943), ('alarm clock', 0.0017440645492955431), ('slow', 0.0017418489730312015), ('many', 0.0017395805899482752), ('even work', 0.001736678824911908), ('well worth', 0.0017215299282388186), ('app easy', 0.0016743151351094054), ('every day', 0.0016701989484302349), ('day', 0.0016643233156512505), ('dare', 0.0016588018965952855), ('great kindle', 0.0016542729546564772), ('quick', 0.001654163397544206), ('rip', 0.0016515251237670947), ('get work', 0.0016338765966472657), ('easily', 0.001608636238093486), ('uninstalling', 0.0016002329445752306), ('amazon', 0.0015911103018630968), ('level', 0.0015698038309421847), ('wasted', 0.001568966872076083), ('bother', 0.0015560959244886874), ('thought would', 0.001546700412295321), ('sudoku', 0.0015332264612254454), ('zero', 0.001526628274852948), ('second', 0.0015202709797351721), ('worse', 0.0015149916361923976), ('quot', 0.0015088758947129355), ('zero star', 0.0015074805881355458), ('ok', 0.0015063714809566697), ('attempt', 0.0015046248976420262), ('stupid app', 0.0014918557496594875), ('definitely', 0.0014866595819469364), ('black', 0.001470939442502095), ('great way', 0.0014609797516165202), ('night', 0.001457005032002634), ('guess', 0.0014563657840371835), ('open', 0.0014540864282781563), ('exactly', 0.001451733932212207), ('playing', 0.0014361731951453294), ('worst game ever', 0.001435615625871245), ('angry bird', 0.0014323256884676283), ('feature', 0.001429673814914989), ('compatible', 0.001429185963908508), ('said', 0.0014114312798820805), ('easier', 0.00140445443252879), ('thanks', 0.0014043503181641048), ('work kindle fire', 0.001401543524044313), ('every time', 0.0013995374571761365), ('hate app', 0.0013976857951046862), ('thinking would', 0.0013976857951046862), ('every time try', 0.001387240700195469), ('set', 0.0013691884277526878), ('error', 0.0013651609006142262), ('little', 0.0013610294375101528), ('app waste', 0.001358977205450529), ('cant even', 0.001358977205450529), ('one star', 0.0013549525017850783), ('great kindle fire', 0.001349062597142514), ('game suck', 0.001332113922769107), ('u', 0.0013301833972217958), ('garbage', 0.0013298862052509852), ('daily', 0.001318325499831463), ('time downloading', 0.0013176437186640522), ('horoscope', 0.0013152500880140305), ('would fun', 0.0013131399691307388), ('froze', 0.0013131399691307388), ('convenient', 0.0013105055575378666), ('snooze', 0.001310483586073885), ('time try', 0.0012998357882706424), ('game boring', 0.0012928639706075717), ('confusing', 0.0012912687869600648), ('smooth', 0.001283129275750694), ('downloaded', 0.0012740940073181495), ('option', 0.0012702615141918505), ('perfectly', 0.0012642951776820066), ('fantastic', 0.001258947810737987), ('even worth', 0.001248163112056333), ('deleted app', 0.001248163112056333), ('could get work', 0.001248163112056333), ('far', 0.0012444742358265204), ('load', 0.0012403693805879135), ('wont', 0.0012384205157685013), ('stopped', 0.0012339721127040404), ('would work', 0.0012156349542504774), ('tool', 0.0012085061063968894), ('note', 0.0012045291706326289), ('waist', 0.0011788097254699093), ('sucked', 0.0011761060426115355), ('also', 0.0011736664120589602), ('radio', 0.0011663293108764572), ('unable', 0.0011632811673717436), ('virus', 0.0011632811673717436), ('year', 0.0011578328052556097), ('ball', 0.0011447631186498608), ('pay', 0.0011354343464227146), ('angry', 0.0011327447398633561), ('work great kindle', 0.001130667585988121), ('minute', 0.0011250564497351512), ('keep track', 0.0011234025338063836), ('review', 0.0011172765053321099), ('star', 0.001115014770956324), ('mean', 0.001112669624936946), ('shame', 0.0011065282254083542), ('ca', 0.0011010487788043477), ('much', 0.0010925967109979284), ('absolutely love', 0.0010903276149737406), ('fake', 0.0010829301635743027), ('stupidest', 0.0010764112296863804), ('useless app', 0.0010764112296863804), ('customizable', 0.0010737207746733812), ('use time', 0.001064016189297523), ('app love', 0.0010613299576632818), ('black screen', 0.0010606752122743757), ('family', 0.0010500505334412047), ('seriously', 0.0010486853575295552), ('permission', 0.0010479957338574986), ('bird', 0.0010476660457301445), ('freeze', 0.0010414999765847588), ('verse', 0.0010414029421561555), ('get waste', 0.0010405369532148212), ('app easy use', 0.0010377308097347937), ('quickly', 0.0010268010971982156), ('developer', 0.0010218182182561986), ('always', 0.0010079167083565377), ('dont waste', 0.001004594418837712), ('waste time app', 0.001004594418837712), ('app terrible', 0.001004594418837712), ('glad pay', 0.001004594418837712), ('work perfectly', 0.0010032965159187945), ('useful', 0.0010006366138659573), ('math', 0.0010000080120792232), ('much fun', 0.0009948559861634454), ('awful', 0.0009900693584244946), ('book', 0.000985681790901194), ('accurate', 0.0009841980528327854), ('highly recommended', 0.0009821988179274932), ('remove', 0.0009790067942002656), ('maybe', 0.0009748843606314228), ('used', 0.0009743473981298489), ('installed', 0.0009731558505213789), ('downloading', 0.0009708443781093479), ('time', 0.0009680594335900738), ('beautiful', 0.0009652872593913786), ('using', 0.0009625735441154415), ('kid love', 0.0009590414053698426), ('rate', 0.0009556605867053758), ('best app', 0.0009503887203450301), ('fun play', 0.0009467160221907633), ('fun game', 0.0009452230734877665), ('ca even', 0.0009388772734936213), ('task', 0.0009363644067349464), ('choose', 0.000935587692284856), ('dog', 0.0009351004490714132), ('could give', 0.0009333061064128456), ('point', 0.0009331765369676726), ('retarded', 0.0009327856259095935), ('waste time downloading', 0.0009327856259095935), ('money back', 0.0009327856259095935), ('one worst', 0.0009327856259095935), ('time space', 0.0009327856259095935), ('wo even', 0.000927541282852995), ('love love', 0.0009275252408020851), ('buy app', 0.0009206683064884036), ('say', 0.0009155554769227914), ('easy navigate', 0.00091385881809114), ('stupid game', 0.0009029541862224377), ('unplayable', 0.0009029541862224377), ('old love', 0.0009001931838253929), ('hour', 0.0008911333229109086), ('wast', 0.0008866860278838873), ('app stupid', 0.0008866860278838873), ('recommend anyone', 0.0008850028052542758), ('opened', 0.0008849560008503676), ('hairy', 0.0008779392579079115), ('scripture', 0.0008728642802628972), ('log', 0.0008720390100025455), ('challenge', 0.0008682675238599336), ('age', 0.0008680506777660746), ('memory', 0.0008619484390111065), ('wo let', 0.0008614355177207766), ('look like', 0.000861206270253656), ('want money', 0.0008609848488145833), ('take forever', 0.0008609848488145833), ('unable record', 0.0008609848488145833), ('far best', 0.0008592010107830728), ('helpful', 0.0008587116950876661), ('sometimes', 0.0008552184487932157), ('etc', 0.0008535369723482455), ('really enjoy', 0.0008504493914609501), ('quite', 0.0008494380340726693), ('able', 0.0008483676921237082), ('reader', 0.0008406074262289343), ('everyday', 0.0008392607177529765), ('wo work', 0.0008380760048360969), ('app waste time', 0.0008344756841192069)]\n"
     ]
    }
   ],
   "source": [
    "sorted_features = sorted(ig.items(), key=lambda x:x[1], reverse=True)\n",
    "threshold = 300\n",
    "\n",
    "print(sorted_features[:threshold])"
   ]
  },
  {
   "cell_type": "code",
   "execution_count": 39,
   "id": "0c52cc84",
   "metadata": {},
   "outputs": [],
   "source": [
    "best_features = set()\n",
    "\n",
    "for i in range(threshold):\n",
    "    best_features.add(sorted_features[i][0])"
   ]
  },
  {
   "cell_type": "code",
   "execution_count": 40,
   "id": "84145035",
   "metadata": {},
   "outputs": [],
   "source": [
    "def remove_useless_features(df, best_features):\n",
    "    empty_records = 0\n",
    "    new_reviewText = []\n",
    "    \n",
    "    for tokens in df['reviewText']:\n",
    "        intersect = tokens.intersection(best_features)\n",
    "        new_reviewText.append(intersect)\n",
    "        \n",
    "        if len(intersect) == 0:\n",
    "            empty_records += 1\n",
    "    \n",
    "    df['reviewText'] = new_reviewText\n",
    "    \n",
    "    return empty_records"
   ]
  },
  {
   "cell_type": "code",
   "execution_count": 41,
   "id": "c878d056",
   "metadata": {},
   "outputs": [
    {
     "name": "stdout",
     "output_type": "stream",
     "text": [
      "365\n"
     ]
    }
   ],
   "source": [
    "empty_records = remove_useless_features(df, best_features)\n",
    "print(empty_records)"
   ]
  },
  {
   "cell_type": "code",
   "execution_count": 42,
   "id": "4a7d8022",
   "metadata": {},
   "outputs": [
    {
     "data": {
      "text/plain": [
       "reviewText    {best, one best}\n",
       "Positive                     1\n",
       "Name: 0, dtype: object"
      ]
     },
     "execution_count": 42,
     "metadata": {},
     "output_type": "execute_result"
    }
   ],
   "source": [
    "df.loc[0]"
   ]
  },
  {
   "cell_type": "code",
   "execution_count": 43,
   "id": "061bb8ce",
   "metadata": {},
   "outputs": [],
   "source": [
    "def to_numeric(df: pd.DataFrame, best_features, threshold):\n",
    "    index = dict()\n",
    "\n",
    "    for idx, feature in enumerate(best_features):\n",
    "        index[feature] = idx\n",
    "    \n",
    "    data = np.zeros((len(df), threshold))\n",
    "    target = np.empty(len(df))\n",
    "    \n",
    "    for idx, record in df.iterrows():\n",
    "        for token in record[0]:\n",
    "            data[idx, index[token]] = 1\n",
    "        \n",
    "        target[idx] = record[1]\n",
    "    \n",
    "    return data, target"
   ]
  },
  {
   "cell_type": "code",
   "execution_count": 44,
   "id": "d3e4bb43",
   "metadata": {},
   "outputs": [],
   "source": [
    "data, target = to_numeric(df, best_features, threshold)"
   ]
  },
  {
   "cell_type": "code",
   "execution_count": 45,
   "id": "35e4d7e6",
   "metadata": {},
   "outputs": [
    {
     "data": {
      "text/plain": [
       "2.0"
      ]
     },
     "execution_count": 45,
     "metadata": {},
     "output_type": "execute_result"
    }
   ],
   "source": [
    "data[0].sum()"
   ]
  },
  {
   "cell_type": "code",
   "execution_count": 46,
   "id": "d6af96ce",
   "metadata": {},
   "outputs": [
    {
     "data": {
      "text/plain": [
       "1.0"
      ]
     },
     "execution_count": 46,
     "metadata": {},
     "output_type": "execute_result"
    }
   ],
   "source": [
    "target[0]"
   ]
  },
  {
   "cell_type": "code",
   "execution_count": 47,
   "id": "db7d1d61",
   "metadata": {},
   "outputs": [],
   "source": [
    "from sklearn.model_selection import cross_val_score\n",
    "from sklearn.tree import DecisionTreeClassifier"
   ]
  },
  {
   "cell_type": "code",
   "execution_count": 48,
   "id": "53e93fa0",
   "metadata": {},
   "outputs": [],
   "source": [
    "clf = DecisionTreeClassifier()\n",
    "res = cross_val_score(clf, data, target, cv=10)"
   ]
  },
  {
   "cell_type": "code",
   "execution_count": 49,
   "id": "aef93f39",
   "metadata": {},
   "outputs": [
    {
     "name": "stdout",
     "output_type": "stream",
     "text": [
      "Accuracies: [0.804  0.788  0.81   0.8095 0.775  0.803  0.8075 0.791  0.8    0.8175]\n",
      "Average accuracy: 0.80055\n",
      "Standard deviation: 0.011936184482488527\n"
     ]
    }
   ],
   "source": [
    "print('Accuracies:', res)\n",
    "print('Average accuracy:', res.mean())\n",
    "print('Standard deviation:', res.std())"
   ]
  },
  {
   "cell_type": "code",
   "execution_count": 50,
   "id": "a7ca26f1",
   "metadata": {},
   "outputs": [],
   "source": [
    "from sklearn.naive_bayes import MultinomialNB"
   ]
  },
  {
   "cell_type": "code",
   "execution_count": 51,
   "id": "f4a7f181",
   "metadata": {},
   "outputs": [],
   "source": [
    "clf = MultinomialNB()\n",
    "res = cross_val_score(clf, data, target, cv=10)"
   ]
  },
  {
   "cell_type": "code",
   "execution_count": 52,
   "id": "c204e9a4",
   "metadata": {},
   "outputs": [
    {
     "name": "stdout",
     "output_type": "stream",
     "text": [
      "Accuracies: [0.8775 0.879  0.875  0.875  0.8445 0.8635 0.8865 0.857  0.8955 0.874 ]\n",
      "Average accuracy: 0.8727500000000001\n",
      "Standard deviation: 0.013826152754833843\n"
     ]
    }
   ],
   "source": [
    "print('Accuracies:', res)\n",
    "print('Average accuracy:', res.mean())\n",
    "print('Standard deviation:', res.std())"
   ]
  },
  {
   "cell_type": "code",
   "execution_count": 53,
   "id": "3d239b9e",
   "metadata": {},
   "outputs": [],
   "source": [
    "from sklearn.ensemble import RandomForestClassifier"
   ]
  },
  {
   "cell_type": "code",
   "execution_count": 54,
   "id": "c6334d2d",
   "metadata": {},
   "outputs": [],
   "source": [
    "clf = RandomForestClassifier()\n",
    "res = cross_val_score(clf, data, target, cv=10)"
   ]
  },
  {
   "cell_type": "code",
   "execution_count": 55,
   "id": "2d527e3f",
   "metadata": {},
   "outputs": [
    {
     "name": "stdout",
     "output_type": "stream",
     "text": [
      "Accuracies: [0.858  0.846  0.862  0.8555 0.8245 0.838  0.86   0.855  0.8685 0.8665]\n",
      "Average accuracy: 0.8533999999999999\n",
      "Standard deviation: 0.01293213052826178\n"
     ]
    }
   ],
   "source": [
    "print('Accuracies:', res)\n",
    "print('Average accuracy:', res.mean())\n",
    "print('Standard deviation:', res.std())"
   ]
  },
  {
   "cell_type": "code",
   "execution_count": 56,
   "id": "cbacb6c9",
   "metadata": {},
   "outputs": [],
   "source": [
    "from sklearn.linear_model import LogisticRegression"
   ]
  },
  {
   "cell_type": "code",
   "execution_count": 57,
   "id": "010357bf",
   "metadata": {},
   "outputs": [],
   "source": [
    "clf = LogisticRegression()\n",
    "res = cross_val_score(clf, data, target, cv=10)"
   ]
  },
  {
   "cell_type": "code",
   "execution_count": 58,
   "id": "018070e3",
   "metadata": {},
   "outputs": [
    {
     "name": "stdout",
     "output_type": "stream",
     "text": [
      "Accuracies: [0.884  0.8895 0.8765 0.8735 0.855  0.864  0.8805 0.87   0.896  0.894 ]\n",
      "Average accuracy: 0.8783\n",
      "Standard deviation: 0.01251039567719583\n"
     ]
    }
   ],
   "source": [
    "print('Accuracies:', res)\n",
    "print('Average accuracy:', res.mean())\n",
    "print('Standard deviation:', res.std())"
   ]
  }
 ],
 "metadata": {
  "kernelspec": {
   "display_name": "Python 3 (ipykernel)",
   "language": "python",
   "name": "python3"
  },
  "language_info": {
   "codemirror_mode": {
    "name": "ipython",
    "version": 3
   },
   "file_extension": ".py",
   "mimetype": "text/x-python",
   "name": "python",
   "nbconvert_exporter": "python",
   "pygments_lexer": "ipython3",
   "version": "3.11.3"
  }
 },
 "nbformat": 4,
 "nbformat_minor": 5
}
