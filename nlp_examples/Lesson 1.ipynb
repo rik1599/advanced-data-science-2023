{
 "cells": [
  {
   "cell_type": "code",
   "execution_count": 2,
   "id": "7d178efb",
   "metadata": {},
   "outputs": [],
   "source": [
    "def word_count(s):\n",
    "    counts = dict()\n",
    "    words = s.split()  # we expect no punctuation\n",
    "\n",
    "    for word in words:\n",
    "        if word in counts:\n",
    "            counts[word] += 1\n",
    "        else:\n",
    "            counts[word] = 1\n",
    "\n",
    "    return counts"
   ]
  },
  {
   "cell_type": "code",
   "execution_count": 3,
   "id": "f3d39095",
   "metadata": {},
   "outputs": [],
   "source": [
    "text = \"I love this book cause this book seems to talk about me and my dreams This is the Book\"\n",
    "# I removed the punctuation"
   ]
  },
  {
   "cell_type": "code",
   "execution_count": 4,
   "id": "f33f94b0",
   "metadata": {},
   "outputs": [
    {
     "name": "stdout",
     "output_type": "stream",
     "text": [
      "{'I': 1, 'love': 1, 'this': 2, 'book': 2, 'cause': 1, 'seems': 1, 'to': 1, 'talk': 1, 'about': 1, 'me': 1, 'and': 1, 'my': 1, 'dreams': 1, 'This': 1, 'is': 1, 'the': 1, 'Book': 1}\n"
     ]
    }
   ],
   "source": [
    "print(word_count(text))"
   ]
  },
  {
   "cell_type": "code",
   "execution_count": 5,
   "id": "5e780979",
   "metadata": {},
   "outputs": [],
   "source": [
    "text2 = text.lower()"
   ]
  },
  {
   "cell_type": "code",
   "execution_count": 6,
   "id": "1b8a611b",
   "metadata": {},
   "outputs": [
    {
     "name": "stdout",
     "output_type": "stream",
     "text": [
      "i love this book cause this book seems to talk about me and my dreams this is the book\n"
     ]
    }
   ],
   "source": [
    "print(text2)"
   ]
  },
  {
   "cell_type": "code",
   "execution_count": 7,
   "id": "f1fd76e8",
   "metadata": {},
   "outputs": [
    {
     "name": "stdout",
     "output_type": "stream",
     "text": [
      "{'i': 1, 'love': 1, 'this': 3, 'book': 3, 'cause': 1, 'seems': 1, 'to': 1, 'talk': 1, 'about': 1, 'me': 1, 'and': 1, 'my': 1, 'dreams': 1, 'is': 1, 'the': 1}\n"
     ]
    }
   ],
   "source": [
    "print(word_count(text2))"
   ]
  },
  {
   "cell_type": "code",
   "execution_count": 8,
   "id": "8d8bff22",
   "metadata": {},
   "outputs": [],
   "source": [
    "#import nltk\n",
    "#import ssl\n",
    "\n",
    "#try:\n",
    "#    _create_unverified_https_context = ssl._create_unverified_context\n",
    "#except AttributeError:\n",
    "#    pass\n",
    "#else:\n",
    "#    ssl._create_default_https_context = _create_unverified_https_context\n",
    "\n",
    "#nltk.download()"
   ]
  },
  {
   "cell_type": "code",
   "execution_count": 9,
   "id": "fc963d64",
   "metadata": {},
   "outputs": [],
   "source": [
    "from nltk.tokenize import sent_tokenize\n",
    "from nltk.tokenize import word_tokenize"
   ]
  },
  {
   "cell_type": "code",
   "execution_count": 10,
   "id": "95880ed4",
   "metadata": {},
   "outputs": [],
   "source": [
    "text = \"I love this book, cause this book seems to talk about me and my dreams. This is the Book!\"\n",
    "\n",
    "sentences = sent_tokenize(text)\n",
    "words = word_tokenize(text)"
   ]
  },
  {
   "cell_type": "code",
   "execution_count": 11,
   "id": "556a5a8f",
   "metadata": {},
   "outputs": [
    {
     "name": "stdout",
     "output_type": "stream",
     "text": [
      "['I love this book, cause this book seems to talk about me and my dreams.', 'This is the Book!']\n",
      "\n",
      "['I', 'love', 'this', 'book', ',', 'cause', 'this', 'book', 'seems', 'to', 'talk', 'about', 'me', 'and', 'my', 'dreams', '.', 'This', 'is', 'the', 'Book', '!']\n"
     ]
    }
   ],
   "source": [
    "print(sentences)\n",
    "print()\n",
    "print(words)"
   ]
  },
  {
   "cell_type": "code",
   "execution_count": 12,
   "id": "4ab0ab36",
   "metadata": {},
   "outputs": [],
   "source": [
    "from nltk.probability import FreqDist"
   ]
  },
  {
   "cell_type": "code",
   "execution_count": 13,
   "id": "1e559e09",
   "metadata": {},
   "outputs": [
    {
     "name": "stdout",
     "output_type": "stream",
     "text": [
      "this : 2\n",
      "book : 2\n",
      "I : 1\n",
      "love : 1\n",
      ", : 1\n",
      "cause : 1\n",
      "seems : 1\n",
      "to : 1\n",
      "talk : 1\n",
      "about : 1\n",
      "me : 1\n",
      "and : 1\n",
      "my : 1\n",
      "dreams : 1\n",
      ". : 1\n",
      "This : 1\n",
      "is : 1\n",
      "the : 1\n",
      "Book : 1\n",
      "! : 1\n"
     ]
    }
   ],
   "source": [
    "fdist = FreqDist(words)\n",
    "\n",
    "for w in fdist:\n",
    "    print(w, \":\", fdist[w])"
   ]
  },
  {
   "cell_type": "code",
   "execution_count": 14,
   "id": "addbc5ee",
   "metadata": {},
   "outputs": [
    {
     "data": {
      "text/plain": [
       "[('this', 2), ('book', 2)]"
      ]
     },
     "execution_count": 14,
     "metadata": {},
     "output_type": "execute_result"
    }
   ],
   "source": [
    "fdist.most_common(2)"
   ]
  },
  {
   "cell_type": "code",
   "execution_count": 15,
   "id": "bda971ff",
   "metadata": {},
   "outputs": [
    {
     "data": {
      "image/png": "[encoded data removed]",
      "text/plain": [
       "<Figure size 640x480 with 1 Axes>"
      ]
     },
     "metadata": {},
     "output_type": "display_data"
    }
   ],
   "source": [
    "# Frequency Distribution Plot\n",
    "\n",
    "import matplotlib.pyplot as plt\n",
    "\n",
    "\n",
    "fdist.plot(len(fdist),cumulative=False)\n",
    "plt.show()"
   ]
  },
  {
   "cell_type": "code",
   "execution_count": 16,
   "id": "6086042e",
   "metadata": {},
   "outputs": [],
   "source": [
    "from nltk.corpus import stopwords\n",
    "# we are going to explot a ready-to-use stop-word list"
   ]
  },
  {
   "cell_type": "code",
   "execution_count": 17,
   "id": "6b21f2f3",
   "metadata": {},
   "outputs": [
    {
     "name": "stdout",
     "output_type": "stream",
     "text": [
      "{'and', 'only', \"hasn't\", 'on', 'him', \"haven't\", 'do', 'having', 'now', 'themselves', 'whom', 'just', 'y', 'any', 'above', 'about', 'my', \"you'd\", 'against', \"didn't\", 'mustn', 'll', 'what', 'up', 'a', 'himself', 'from', 'down', 'o', 'until', 'the', \"you'll\", 'his', 'again', \"hadn't\", 'am', 'be', 'not', 'an', 'shan', 'ourselves', 'for', 'below', \"couldn't\", 'was', 'she', 'they', 'should', 'will', 'but', 'have', 'all', 'd', 'won', \"you've\", 'can', 'those', 's', 'nor', \"don't\", 'where', \"shouldn't\", 'who', \"mightn't\", 'wouldn', 'there', 'yours', 're', 'shouldn', 'here', 'them', 'once', 'than', 'this', 'too', 'ma', \"weren't\", 'because', 'wasn', \"won't\", 'through', 'by', 'myself', \"it's\", \"aren't\", 'such', 'hers', 'he', 'ain', 'yourself', 'if', 'same', 'most', 'is', 'other', 'we', 'into', 'weren', 'of', 'being', 'further', \"shan't\", 'both', 'in', \"she's\", 'had', 'i', 'few', \"needn't\", 'it', 'no', 'herself', 'does', 'to', 'then', 'some', 'so', \"should've\", 'haven', 'hadn', 'm', 've', 'doing', 'are', 'how', 'your', \"wouldn't\", 'you', 'out', \"you're\", 'which', 'during', 'off', 'needn', \"doesn't\", 'ours', 'me', 'did', 'didn', 't', 'isn', 'her', 'more', 'before', 'or', 'each', 'doesn', \"mustn't\", 'as', 'aren', 'while', \"isn't\", 'when', 'over', 'been', 'our', 'their', 'between', 'has', 'yourselves', 'don', 'theirs', 'very', 'own', 'these', 'at', 'why', 'that', 'with', 'after', 'its', \"that'll\", \"wasn't\", 'were', 'hasn', 'couldn', 'mightn', 'under', 'itself'}\n"
     ]
    }
   ],
   "source": [
    "stop_words = set(stopwords.words(\"english\"))\n",
    "print(stop_words)"
   ]
  },
  {
   "cell_type": "code",
   "execution_count": 18,
   "id": "479097b0",
   "metadata": {},
   "outputs": [
    {
     "name": "stdout",
     "output_type": "stream",
     "text": [
      "Tokenized data: ['I', 'love', 'this', 'book', ',', 'cause', 'this', 'book', 'seems', 'to', 'talk', 'about', 'me', 'and', 'my', 'dreams', '.', 'This', 'is', 'the', 'Book', '!']\n",
      "Filterd data: ['I', 'love', 'book', ',', 'cause', 'book', 'seems', 'talk', 'dreams', '.', 'This', 'Book', '!']\n"
     ]
    }
   ],
   "source": [
    "filtered_sent = []\n",
    "\n",
    "for w in words:\n",
    "    if w not in stop_words:\n",
    "        filtered_sent.append(w)\n",
    "\n",
    "print(\"Tokenized data:\", words)\n",
    "print(\"Filterd data:\", filtered_sent)"
   ]
  },
  {
   "cell_type": "code",
   "execution_count": 19,
   "id": "0ba7d9ab",
   "metadata": {},
   "outputs": [],
   "source": [
    "import string"
   ]
  },
  {
   "cell_type": "code",
   "execution_count": 20,
   "id": "c3421ab0",
   "metadata": {},
   "outputs": [
    {
     "name": "stdout",
     "output_type": "stream",
     "text": [
      "!\"#$%&'()*+,-./:;<=>?@[\\]^_`{|}~\n"
     ]
    }
   ],
   "source": [
    "print(string.punctuation)"
   ]
  },
  {
   "cell_type": "code",
   "execution_count": 21,
   "id": "6cc01109",
   "metadata": {},
   "outputs": [
    {
     "name": "stdout",
     "output_type": "stream",
     "text": [
      "['I', 'love', 'this', 'book', ',', 'cause', 'this', 'book', 'seems', 'to', 'talk', 'about', 'me', 'and', 'my', 'dreams', '.', 'This', 'is', 'the', 'Book', '!', '1', '43789']\n"
     ]
    }
   ],
   "source": [
    "# Let's add some numbers to our word list\n",
    "words.append(\"1\")\n",
    "words.append(\"43789\")\n",
    "\n",
    "print(words)"
   ]
  },
  {
   "cell_type": "code",
   "execution_count": 22,
   "id": "b6cce5eb",
   "metadata": {},
   "outputs": [
    {
     "name": "stdout",
     "output_type": "stream",
     "text": [
      "['I', 'love', 'this', 'book', 'cause', 'this', 'book', 'seems', 'to', 'talk', 'about', 'me', 'and', 'my', 'dreams', 'This', 'is', 'the', 'Book']\n"
     ]
    }
   ],
   "source": [
    "# remove all tokens that are not alphabetic\n",
    "filtered_words = [word for word in words if word.isalpha()]\n",
    "\n",
    "print(filtered_words)"
   ]
  },
  {
   "cell_type": "code",
   "execution_count": 23,
   "id": "94decde8",
   "metadata": {},
   "outputs": [
    {
     "name": "stdout",
     "output_type": "stream",
     "text": [
      "['I', 'love', 'this', 'book', 'cause', 'this', 'book', 'seems', 'to', 'talk', 'about', 'me', 'and', 'my', 'dreams', 'This', 'is', 'the', 'Book', '1', '43789']\n"
     ]
    }
   ],
   "source": [
    "# remove all tokens that are not alphabetic numeric\n",
    "filtered_words2 = [word for word in words if word.isalnum()]\n",
    "\n",
    "print(filtered_words2)"
   ]
  },
  {
   "cell_type": "code",
   "execution_count": 24,
   "id": "4151db0b",
   "metadata": {},
   "outputs": [],
   "source": [
    "from nltk.stem import PorterStemmer"
   ]
  },
  {
   "cell_type": "code",
   "execution_count": 25,
   "id": "c04e06c0",
   "metadata": {},
   "outputs": [
    {
     "name": "stdout",
     "output_type": "stream",
     "text": [
      "Filtered words: ['I', 'love', 'this', 'book', 'cause', 'this', 'book', 'seems', 'to', 'talk', 'about', 'me', 'and', 'my', 'dreams', 'This', 'is', 'the', 'Book']\n",
      "Stemmed words: ['i', 'love', 'thi', 'book', 'caus', 'thi', 'book', 'seem', 'to', 'talk', 'about', 'me', 'and', 'my', 'dream', 'thi', 'is', 'the', 'book']\n"
     ]
    }
   ],
   "source": [
    "ps = PorterStemmer()\n",
    "\n",
    "stemmed_words = []\n",
    "\n",
    "for w in filtered_words:\n",
    "    stemmed_words.append(ps.stem(w))\n",
    "\n",
    "print(\"Filtered words:\", filtered_words)\n",
    "print(\"Stemmed words:\", stemmed_words)"
   ]
  },
  {
   "cell_type": "code",
   "execution_count": 26,
   "id": "7f8e4711",
   "metadata": {},
   "outputs": [],
   "source": [
    "from nltk.stem.wordnet import WordNetLemmatizer"
   ]
  },
  {
   "cell_type": "code",
   "execution_count": 27,
   "id": "f40cf32a",
   "metadata": {},
   "outputs": [
    {
     "name": "stdout",
     "output_type": "stream",
     "text": [
      "Lemmatized Word: fly\n",
      "Stemmed Word: fli\n"
     ]
    }
   ],
   "source": [
    "lem = WordNetLemmatizer()\n",
    "word = \"flying\"\n",
    "\n",
    "print(\"Lemmatized Word:\", lem.lemmatize(word, \"v\"))\n",
    "print(\"Stemmed Word:\", ps.stem(word))"
   ]
  },
  {
   "cell_type": "code",
   "execution_count": 28,
   "id": "2ccf7337",
   "metadata": {},
   "outputs": [],
   "source": [
    "import nltk"
   ]
  },
  {
   "cell_type": "code",
   "execution_count": 29,
   "id": "2cedca02",
   "metadata": {},
   "outputs": [
    {
     "data": {
      "text/plain": [
       "[('I', 'PRP'),\n",
       " ('love', 'VBP'),\n",
       " ('this', 'DT'),\n",
       " ('book', 'NN'),\n",
       " ('cause', 'NN'),\n",
       " ('this', 'DT'),\n",
       " ('book', 'NN'),\n",
       " ('seems', 'VBZ'),\n",
       " ('to', 'TO'),\n",
       " ('talk', 'VB'),\n",
       " ('about', 'IN'),\n",
       " ('me', 'PRP'),\n",
       " ('and', 'CC'),\n",
       " ('my', 'PRP$'),\n",
       " ('dreams', 'NN'),\n",
       " ('This', 'DT'),\n",
       " ('is', 'VBZ'),\n",
       " ('the', 'DT'),\n",
       " ('Book', 'NNP')]"
      ]
     },
     "execution_count": 29,
     "metadata": {},
     "output_type": "execute_result"
    }
   ],
   "source": [
    "nltk.pos_tag(filtered_words)"
   ]
  },
  {
   "cell_type": "code",
   "execution_count": 30,
   "id": "e7d0bb20",
   "metadata": {},
   "outputs": [],
   "source": [
    "from nltk.util import ngrams"
   ]
  },
  {
   "cell_type": "code",
   "execution_count": 31,
   "id": "ed8210e6",
   "metadata": {},
   "outputs": [],
   "source": [
    "def extract_ngrams(data, num):\n",
    "    n_grams = ngrams(nltk.word_tokenize(data), num)\n",
    "    return [ ' '.join(grams) for grams in n_grams]"
   ]
  },
  {
   "cell_type": "code",
   "execution_count": 32,
   "id": "0e4ce2c5",
   "metadata": {},
   "outputs": [
    {
     "name": "stdout",
     "output_type": "stream",
     "text": [
      "1-gram of the sample text:  ['I', 'love', 'this', 'book', ',', 'cause', 'this', 'book', 'seems', 'to', 'talk', 'about', 'me', 'and', 'my', 'dreams', '.', 'This', 'is', 'the', 'Book', '!'] \n",
      "\n",
      "2-gram of the sample text:  ['I love', 'love this', 'this book', 'book ,', ', cause', 'cause this', 'this book', 'book seems', 'seems to', 'to talk', 'talk about', 'about me', 'me and', 'and my', 'my dreams', 'dreams .', '. This', 'This is', 'is the', 'the Book', 'Book !'] \n",
      "\n",
      "3-gram of the sample text:  ['I love this', 'love this book', 'this book ,', 'book , cause', ', cause this', 'cause this book', 'this book seems', 'book seems to', 'seems to talk', 'to talk about', 'talk about me', 'about me and', 'me and my', 'and my dreams', 'my dreams .', 'dreams . This', '. This is', 'This is the', 'is the Book', 'the Book !'] \n",
      "\n",
      "4-gram of the sample text:  ['I love this book', 'love this book ,', 'this book , cause', 'book , cause this', ', cause this book', 'cause this book seems', 'this book seems to', 'book seems to talk', 'seems to talk about', 'to talk about me', 'talk about me and', 'about me and my', 'me and my dreams', 'and my dreams .', 'my dreams . This', 'dreams . This is', '. This is the', 'This is the Book', 'is the Book !'] \n",
      "\n"
     ]
    }
   ],
   "source": [
    "print(\"1-gram of the sample text: \", extract_ngrams(text, 1), '\\n')\n",
    "print(\"2-gram of the sample text: \", extract_ngrams(text, 2), '\\n')\n",
    "print(\"3-gram of the sample text: \", extract_ngrams(text, 3), '\\n')\n",
    "print(\"4-gram of the sample text: \", extract_ngrams(text, 4), '\\n')"
   ]
  }
 ],
 "metadata": {
  "kernelspec": {
   "display_name": "Python 3 (ipykernel)",
   "language": "python",
   "name": "python3"
  },
  "language_info": {
   "codemirror_mode": {
    "name": "ipython",
    "version": 3
   },
   "file_extension": ".py",
   "mimetype": "text/x-python",
   "name": "python",
   "nbconvert_exporter": "python",
   "pygments_lexer": "ipython3",
   "version": "3.11.3"
  }
 },
 "nbformat": 4,
 "nbformat_minor": 5
}
