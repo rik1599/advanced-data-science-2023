{
 "cells": [
  {
   "cell_type": "code",
   "execution_count": 2,
   "id": "0e8b56ae",
   "metadata": {},
   "outputs": [
    {
     "name": "stdout",
     "output_type": "stream",
     "text": [
      "Those Who Are Resilient Stay In The Game Longer\n",
      "“On the mountains of truth you can never climb in vain: either you will reach a point higher up today, or you will be training your powers so that you will be able to climb higher tomorrow.” — Friedrich Nietzsche.\n",
      "Challenges and setbacks are not meant to defeat you, but promote you. However, I realize after many years of defeats, it can crush your spirit and it is easier to give up than risk further setbacks and disappointments. Have you experienced this before? To be honest, I don’t have the answers. I can’t tell you what the right course of action is; only you will know. However, it’s important not to be discouraged by failure when pursuing a goal or a dream, since failure itself means different things to different people. To a person with a Fixed Mindset failure is a blow to their self-esteem, yet to a person with a Growth Mindset, it’s an opportunity to improve and find new ways to overcome their obstacles. Same failure, yet different responses. Who is right and who is wrong? Neither. Each person has a different mindset that decides their outcome. Those who are resilient stay in the game longer and draw on their inner means to succeed.\n",
      "\n",
      "I’ve coached mummy and mom clients who gave up after many years toiling away at their respective goal or dream. It was at that point their biggest breakthrough came. Perhaps all those years of perseverance finally paid off. It was the 19th Century’s minister Henry Ward Beecher who once said: “One’s best success comes after their greatest disappointments.” No one knows what the future holds, so your only guide is whether you can endure repeated defeats and disappointments and still pursue your dream. Consider the advice from the American academic and psychologist Angela Duckworth who writes in Grit: The Power of Passion and Perseverance: “Many of us, it seems, quit what we start far too early and far too often. Even more than the effort a gritty person puts in on a single day, what matters is that they wake up the next day, and the next, ready to get on that treadmill and keep going.”\n",
      "\n",
      "I know one thing for certain: don’t settle for less than what you’re capable of, but strive for something bigger. Some of you reading this might identify with this message because it resonates with you on a deeper level. For others, at the end of their tether the message might be nothing more than a trivial pep talk. What I wish to convey irrespective of where you are in your journey is: NEVER settle for less. If you settle for less, you will receive less than you deserve and convince yourself you are justified to receive it.\n",
      "\n",
      "\n",
      "“Two people on a precipice over Yosemite Valley” by Nathan Shipps on Unsplash\n",
      "Develop A Powerful Vision Of What You Want\n",
      "“Your problem is to bridge the gap which exists between where you are now and the goal you intend to reach.” — Earl Nightingale.\n",
      "I recall a passage my father often used growing up in 1990s: “Don’t tell me your problems unless you’ve spent weeks trying to solve them yourself.” That advice has echoed in my mind for decades and became my motivator. Don’t leave it to other people or outside circumstances to motivate you because you will be let down every time. It must come from within you. Gnaw away at your problems until you solve them or find a solution. Problems are not stop signs, they are advising you that more work is required to overcome them. Most times, problems help you gain a skill or develop the resources to succeed later. So embrace your challenges and develop the grit to push past them instead of retreat in resignation. Where are you settling in your life right now? Could you be you playing for bigger stakes than you are? Are you willing to play bigger even if it means repeated failures and setbacks? You should ask yourself these questions to decide whether you’re willing to put yourself on the line or settle for less. And that’s fine if you’re content to receive less, as long as you’re not regretful later.\n",
      "\n",
      "If you have not achieved the success you deserve and are considering giving up, will you regret it in a few years or decades from now? Only you can answer that, but you should carve out time to discover your motivation for pursuing your goals. It’s a fact, if you don’t know what you want you’ll get what life hands you and it may not be in your best interest, affirms author Larry Weidel: “Winners know that if you don’t figure out what you want, you’ll get whatever life hands you.” The key is to develop a powerful vision of what you want and hold that image in your mind. Nurture it daily and give it life by taking purposeful action towards it.\n",
      "\n",
      "Vision + desire + dedication + patience + daily action leads to astonishing success. Are you willing to commit to this way of life or jump ship at the first sign of failure? I’m amused when I read questions written by millennials on Quora who ask how they can become rich and famous or the next Elon Musk. Success is a fickle and long game with highs and lows. Similarly, there are no assurances even if you’re an overnight sensation, to sustain it for long, particularly if you don’t have the mental and emotional means to endure it. This means you must rely on the one true constant in your favor: your personal development. The more you grow, the more you gain in terms of financial resources, status, success — simple. If you leave it to outside conditions to dictate your circumstances, you are rolling the dice on your future.\n",
      "\n",
      "So become intentional on what you want out of life. Commit to it. Nurture your dreams. Focus on your development and if you want to give up, know what’s involved before you take the plunge. Because I assure you, someone out there right now is working harder than you, reading more books, sleeping less and sacrificing all they have to realize their dreams and it may contest with yours. Don’t leave your dreams to chance.\n",
      "\n"
     ]
    }
   ],
   "source": [
    "with open('Text.txt', 'r') as f:\n",
    "    text = f.read()\n",
    "\n",
    "print(text)"
   ]
  },
  {
   "attachments": {},
   "cell_type": "markdown",
   "id": "e8a92b3a",
   "metadata": {},
   "source": [
    "# Approccio 1: Score-sentence basato su media delle frequenze delle parole"
   ]
  },
  {
   "cell_type": "code",
   "execution_count": 3,
   "id": "b5b1d65c",
   "metadata": {},
   "outputs": [],
   "source": [
    "from nltk.corpus import stopwords\n",
    "from nltk.tokenize import word_tokenize\n",
    "from nltk.stem import WordNetLemmatizer\n",
    "from nltk.util import ngrams"
   ]
  },
  {
   "attachments": {},
   "cell_type": "markdown",
   "id": "4e27dd16",
   "metadata": {},
   "source": [
    "Calcoliamo gli n-grams (senza punteggiatura e stop-words) e la frequenza di ognuno di questi."
   ]
  },
  {
   "cell_type": "code",
   "execution_count": 5,
   "id": "cc3816c1",
   "metadata": {},
   "outputs": [],
   "source": [
    "def preprocess(text: str, lemmatizer: WordNetLemmatizer, n):\n",
    "\n",
    "    # To lower case and tokenization\n",
    "    tokens = word_tokenize(text.lower())\n",
    "\n",
    "    # Stop word and punctuation removal\n",
    "    filtered_tokens = [token for token in tokens if token.isalpha() and (token not in stopwords.words('english'))]\n",
    "\n",
    "    # Lemmatize the tokens\n",
    "    lemmatized_tokens = [lemmatizer.lemmatize(token) for token in filtered_tokens]\n",
    "\n",
    "    if n <= 1:\n",
    "        return lemmatized_tokens\n",
    "    \n",
    "    # NGram generation\n",
    "    ngram_set = []\n",
    "    \n",
    "    for i in range(1, n + 1):\n",
    "        processed_text = ngrams(lemmatized_tokens, i)\n",
    "        ngram_set.extend([' '.join(grams) for grams in processed_text])\n",
    "\n",
    "    return ngram_set"
   ]
  },
  {
   "cell_type": "code",
   "execution_count": 7,
   "id": "c192a8ca",
   "metadata": {},
   "outputs": [
    {
     "name": "stdout",
     "output_type": "stream",
     "text": [
      "['resilient', 'stay', 'game', 'longer', 'mountain', 'truth', 'never', 'climb', 'vain', 'either']\n"
     ]
    }
   ],
   "source": [
    "lemmatizer = WordNetLemmatizer()\n",
    "tokens = preprocess(text, lemmatizer, 1) # Estrae i 1-grams: le singole parole\n",
    "print(tokens[:10])"
   ]
  },
  {
   "cell_type": "code",
   "execution_count": 8,
   "id": "20c9b6f6",
   "metadata": {},
   "outputs": [],
   "source": [
    "from collections import Counter\n",
    "from collections import defaultdict"
   ]
  },
  {
   "cell_type": "code",
   "execution_count": 9,
   "id": "85b407e2",
   "metadata": {},
   "outputs": [],
   "source": [
    "def build_dictionary(tokens):\n",
    "    dictionary = defaultdict(lambda: 0)\n",
    "    \n",
    "    for token in tokens:\n",
    "        dictionary[token] += 1\n",
    "    \n",
    "    return dictionary"
   ]
  },
  {
   "cell_type": "code",
   "execution_count": 10,
   "id": "89ba55cb",
   "metadata": {},
   "outputs": [
    {
     "name": "stdout",
     "output_type": "stream",
     "text": [
      "[('resilient', 2), ('stay', 2), ('game', 3), ('longer', 2), ('mountain', 1), ('truth', 1), ('never', 2), ('climb', 2), ('vain', 1), ('either', 1)]\n"
     ]
    }
   ],
   "source": [
    "dictionary = build_dictionary(tokens)\n",
    "\n",
    "print(list(dictionary.items())[:10])"
   ]
  },
  {
   "cell_type": "code",
   "execution_count": 11,
   "id": "90358adf",
   "metadata": {},
   "outputs": [],
   "source": [
    "from nltk.tokenize import sent_tokenize"
   ]
  },
  {
   "cell_type": "code",
   "execution_count": 12,
   "id": "db9e35a3",
   "metadata": {},
   "outputs": [],
   "source": [
    "sentences = sent_tokenize(text)"
   ]
  },
  {
   "cell_type": "code",
   "execution_count": 17,
   "id": "dc180619",
   "metadata": {},
   "outputs": [],
   "source": [
    "def score_sentences(sentences, dictionary, lemmatizer):\n",
    "    sentence_score = dict()\n",
    "\n",
    "    for idx, sentence in enumerate(sentences):\n",
    "        relevant_tokens = 0\n",
    "        score = 0\n",
    "        \n",
    "        for token in word_tokenize(sentence.lower()):\n",
    "            token = lemmatizer.lemmatize(token)\n",
    "\n",
    "            if token in dictionary:\n",
    "                relevant_tokens += 1\n",
    "                score += dictionary[token]\n",
    "        \n",
    "        sentence_score[idx] = score / relevant_tokens\n",
    "\n",
    "    return sentence_score"
   ]
  },
  {
   "cell_type": "code",
   "execution_count": 18,
   "id": "faf06af8",
   "metadata": {},
   "outputs": [
    {
     "name": "stdout",
     "output_type": "stream",
     "text": [
      "[(0, 1.5714285714285714), (1, 2.0), (2, 2.1666666666666665)]\n"
     ]
    }
   ],
   "source": [
    "scores = score_sentences(sentences, dictionary, lemmatizer)\n",
    "\n",
    "print(list(scores.items())[:3])"
   ]
  },
  {
   "cell_type": "code",
   "execution_count": 19,
   "id": "f5c04d34",
   "metadata": {},
   "outputs": [],
   "source": [
    "def average_score(scores: dict):\n",
    "    average = 0\n",
    "\n",
    "    for value in scores.values():\n",
    "        average += value\n",
    "\n",
    "    average /= len(scores)\n",
    "\n",
    "    return average"
   ]
  },
  {
   "cell_type": "code",
   "execution_count": 20,
   "id": "8a4b2f37",
   "metadata": {},
   "outputs": [
    {
     "name": "stdout",
     "output_type": "stream",
     "text": [
      "avg_score 2.2208785663728694\n",
      "threshold 2.8871421362847305\n"
     ]
    }
   ],
   "source": [
    "avg_score = average_score(scores) # Calcola la media dei punteggi\n",
    "print('avg_score', avg_score)\n",
    "\n",
    "alpha = 1.3\n",
    "\n",
    "threshold = avg_score * alpha # Soglia di punteggio\n",
    "print('threshold', threshold)"
   ]
  },
  {
   "attachments": {},
   "cell_type": "markdown",
   "id": "6459075c",
   "metadata": {},
   "source": [
    "Costruiamo il summary prendendo le frasi con punteggio maggiore del threshold calcolato precedentemente."
   ]
  },
  {
   "cell_type": "code",
   "execution_count": 23,
   "id": "14a239e8",
   "metadata": {},
   "outputs": [],
   "source": [
    "def generate_summary(sentences, scores, threshold):\n",
    "    count = 0\n",
    "    summary = ''\n",
    "\n",
    "    for idx, sentence in enumerate(sentences):\n",
    "        if scores[idx] >= (threshold):\n",
    "            summary += ' ' + sentence\n",
    "            count += 1\n",
    "\n",
    "    return summary[1:], count"
   ]
  },
  {
   "cell_type": "code",
   "execution_count": 24,
   "id": "888a04dd",
   "metadata": {},
   "outputs": [
    {
     "name": "stdout",
     "output_type": "stream",
     "text": [
      "Original text is composed by 54 sentences\n",
      "Summary is composed by 9 sentences\n"
     ]
    }
   ],
   "source": [
    "summary, sentence_count = generate_summary(sentences, scores, threshold)\n",
    "\n",
    "print(f'Original text is composed by {len(sentences)} sentences')\n",
    "print(f'Summary is composed by {sentence_count} sentences')"
   ]
  },
  {
   "cell_type": "code",
   "execution_count": 26,
   "id": "6df2b8d4",
   "metadata": {},
   "outputs": [
    {
     "name": "stdout",
     "output_type": "stream",
     "text": [
      "I can’t tell you what the right course of action is; only you will know. However, it’s important not to be discouraged by failure when pursuing a goal or a dream, since failure itself means different things to different people. Same failure, yet different responses. If you settle for less, you will receive less than you deserve and convince yourself you are justified to receive it. Where are you settling in your life right now? Are you willing to play bigger even if it means repeated failures and setbacks? So become intentional on what you want out of life. Nurture your dreams. Don’t leave your dreams to chance.\n"
     ]
    }
   ],
   "source": [
    "print(summary)"
   ]
  },
  {
   "attachments": {},
   "cell_type": "markdown",
   "id": "77e3dd86",
   "metadata": {},
   "source": [
    "# Approccio 2: TF-IDF\n",
    "\n",
    "Usiamo le frasi come fossero documenti e calcoliamo il TF-IDF per ogni token."
   ]
  },
  {
   "cell_type": "code",
   "execution_count": 27,
   "id": "39675dd8",
   "metadata": {},
   "outputs": [],
   "source": [
    "from collections import defaultdict\n",
    "import numpy as np"
   ]
  },
  {
   "cell_type": "code",
   "execution_count": 28,
   "id": "facab0e6",
   "metadata": {},
   "outputs": [],
   "source": [
    "def compute_tf_idf(sentences, dictionary, lemmatizer: WordNetLemmatizer):\n",
    "    tf_dict = defaultdict(lambda: defaultdict(lambda: 0))\n",
    "    relevant_tokens = defaultdict(lambda: 0)\n",
    "    token_sentences_dict = defaultdict(set)\n",
    "\n",
    "    for idx, sentence in enumerate(sentences):\n",
    "        for token in word_tokenize(sentence.lower()):\n",
    "            token = lemmatizer.lemmatize(token)\n",
    "\n",
    "            if token in dictionary:\n",
    "                relevant_tokens[idx] += 1\n",
    "                tf_dict[idx][token] += 1\n",
    "                token_sentences_dict[token].add(idx)\n",
    "    \n",
    "    tf_idf = defaultdict(lambda: defaultdict(lambda: 0))\n",
    "    \n",
    "    for token, token_sentences in token_sentences_dict.items():\n",
    "        idf = np.log10(len(sentences) / len(token_sentences))\n",
    "        \n",
    "        for idx in token_sentences:\n",
    "            tf_idf[idx][token] = tf_dict[idx][token] / relevant_tokens[idx] * idf\n",
    "\n",
    "    return tf_idf"
   ]
  },
  {
   "cell_type": "code",
   "execution_count": 29,
   "id": "5fcf959a",
   "metadata": {},
   "outputs": [
    {
     "name": "stdout",
     "output_type": "stream",
     "text": [
      "defaultdict(<function compute_tf_idf.<locals>.<lambda> at 0x7f7a82253d80>, {0: defaultdict(<function compute_tf_idf.<locals>.<lambda>.<locals>.<lambda> at 0x7f7a82253ce0>, {'resilient': 0.06816017924566606, 'stay': 0.06816017924566606, 'game': 0.05977488119539552, 'longer': 0.06816017924566606, 'mountain': 0.08249494094395088, 'truth': 0.08249494094395088, 'never': 0.06816017924566606, 'climb': 0.16498988188790176, 'vain': 0.08249494094395088, 'either': 0.08249494094395088, 'reach': 0.08249494094395088, 'point': 0.06816017924566606, 'higher': 0.16498988188790176, 'today': 0.08249494094395088, 'training': 0.08249494094395088, 'power': 0.06816017924566606, 'able': 0.08249494094395088, 'friedrich': 0.08249494094395088, 'nietzsche': 0.08249494094395088}), 12: defaultdict(<function compute_tf_idf.<locals>.<lambda>.<locals>.<lambda> at 0x7f7a82253e20>, {'resilient': 0.17892047051987342, 'stay': 0.17892047051987342, 'game': 0.15690906313791325, 'longer': 0.17892047051987342, 'mean': 0.1291779694358687, 'draw': 0.21654921997787108, 'inner': 0.21654921997787108, 'succeed': 0.17892047051987342}), 43: defaultdict(<function compute_tf_idf.<locals>.<lambda>.<locals>.<lambda> at 0x7f7a82253ec0>, {'game': 0.20921208418388432, 'success': 0.17223729258115827, 'long': 0.20921208418388432, 'fickle': 0.2887322933038281, 'high': 0.2887322933038281, 'low': 0.2887322933038281}), 21: defaultdict(<function compute_tf_idf.<locals>.<lambda>.<locals>.<lambda> at 0x7f7a82253f60>, {'never': 0.20448053773699817, 'settle': 0.16147625264214371, 'le': 0.13632035849133212, 'wish': 0.24748482283185264, 'convey': 0.24748482283185264, 'irrespective': 0.24748482283185264, 'journey': 0.24748482283185264}), 14: defaultdict(<function compute_tf_idf.<locals>.<lambda>.<locals>.<lambda> at 0x7f7a7e508040>, {'point': 0.35784094103974684, 'biggest': 0.43309843995574215, 'breakthrough': 0.43309843995574215, 'came': 0.43309843995574215}), 17: defaultdict(<function compute_tf_idf.<locals>.<lambda>.<locals>.<lambda> at 0x7f7a7e5080e0>, {'power': 0.06816017924566606, 'many': 0.05977488119539552, 'perseverance': 0.06816017924566606, 'consider': 0.08249494094395088, 'advice': 0.06816017924566606, 'american': 0.08249494094395088, 'academic': 0.08249494094395088, 'psychologist': 0.08249494094395088, 'angela': 0.08249494094395088, 'duckworth': 0.08249494094395088, 'writes': 0.08249494094395088, 'grit': 0.06816017924566606, 'passion': 0.08249494094395088, 'u': 0.08249494094395088, 'seems': 0.08249494094395088, 'quit': 0.08249494094395088, 'start': 0.08249494094395088, 'far': 0.16498988188790176, 'early': 0.08249494094395088, 'often': 0.06816017924566606}), 1: defaultdict(<function compute_tf_idf.<locals>.<lambda>.<locals>.<lambda> at 0x7f7a82253b00>, {'challenge': 0.2862727528317975, 'setback': 0.25105450102066124, 'meant': 0.34647875196459377, 'defeat': 0.25105450102066124, 'promote': 0.34647875196459377}), 30: defaultdict(<function compute_tf_idf.<locals>.<lambda>.<locals>.<lambda> at 0x7f7a7e508180>, {'challenge': 0.1590404182398875, 'grit': 0.1590404182398875, 'develop': 0.12559264094388956, 'embrace': 0.1924881955358854, 'push': 0.1924881955358854, 'past': 0.1924881955358854, 'instead': 0.1924881955358854, 'retreat': 0.1924881955358854, 'resignation': 0.1924881955358854}), 2: defaultdict(<function compute_tf_idf.<locals>.<lambda>.<locals>.<lambda> at 0x7f7a7e508220>, {'setback': 0.10460604209194216, 'defeat': 0.10460604209194216, 'however': 0.11928031367991561, 'realize': 0.11928031367991561, 'many': 0.10460604209194216, 'year': 0.09419448070791717, 'crush': 0.14436614665191405, 'spirit': 0.14436614665191405, 'easier': 0.14436614665191405, 'give': 0.10460604209194216, 'risk': 0.14436614665191405, 'disappointment': 0.11928031367991561}), 33: defaultdict(<function compute_tf_idf.<locals>.<lambda>.<locals>.<lambda> at 0x7f7a7e5082c0>, {'setback': 0.15690906313791325, 'failure': 0.1291779694358687, 'mean': 0.1291779694358687, 'repeated': 0.17892047051987342, 'even': 0.15690906313791325, 'bigger': 0.15690906313791325, 'willing': 0.15690906313791325, 'play': 0.21654921997787108}), 16: defaultdict(<function compute_tf_idf.<locals>.<lambda>.<locals>.<lambda> at 0x7f7a7e508360>, {'defeat': 0.05230302104597108, 'disappointment': 0.059640156839957804, 'know': 0.04305932314528957, 'dream': 0.039760104559971865, 'century': 0.07218307332595703, 'minister': 0.07218307332595703, 'henry': 0.07218307332595703, 'ward': 0.07218307332595703, 'beecher': 0.07218307332595703, 'said': 0.07218307332595703, 'one': 0.10460604209194216, 'best': 0.059640156839957804, 'success': 0.04305932314528957, 'come': 0.059640156839957804, 'greatest': 0.07218307332595703, 'future': 0.059640156839957804, 'hold': 0.059640156839957804, 'guide': 0.07218307332595703, 'whether': 0.059640156839957804, 'endure': 0.059640156839957804, 'repeated': 0.059640156839957804, 'still': 0.07218307332595703, 'pursue': 0.07218307332595703}), 6: defaultdict(<function compute_tf_idf.<locals>.<lambda>.<locals>.<lambda> at 0x7f7a7e508400>, {'however': 0.10224026886849909, 'important': 0.12374241141592632, 'discouraged': 0.12374241141592632, 'failure': 0.14763196506956422, 'pursuing': 0.10224026886849909, 'goal': 0.08073812632107186, 'dream': 0.06816017924566606, 'since': 0.12374241141592632, 'mean': 0.07381598253478211, 'different': 0.17932464358618655, 'thing': 0.10224026886849909, 'people': 0.08966232179309327}), 52: defaultdict(<function compute_tf_idf.<locals>.<lambda>.<locals>.<lambda> at 0x7f7a7e5084a0>, {'realize': 0.10224026886849909, 'right': 0.08073812632107186, 'dream': 0.06816017924566606, 'le': 0.06816017924566606, 'reading': 0.10224026886849909, 'may': 0.10224026886849909, 'assure': 0.12374241141592632, 'someone': 0.12374241141592632, 'working': 0.12374241141592632, 'harder': 0.12374241141592632, 'book': 0.12374241141592632, 'sleeping': 0.12374241141592632, 'sacrificing': 0.12374241141592632, 'contest': 0.12374241141592632}), 13: defaultdict(<function compute_tf_idf.<locals>.<lambda>.<locals>.<lambda> at 0x7f7a7e508540>, {'many': 0.10460604209194216, 'year': 0.09419448070791717, 'goal': 0.09419448070791717, 'dream': 0.07952020911994373, 'coached': 0.14436614665191405, 'mummy': 0.14436614665191405, 'mom': 0.14436614665191405, 'client': 0.14436614665191405, 'gave': 0.14436614665191405, 'toiling': 0.14436614665191405, 'away': 0.11928031367991561, 'respective': 0.14436614665191405}), 36: defaultdict(<function compute_tf_idf.<locals>.<lambda>.<locals>.<lambda> at 0x7f7a7e5085e0>, {'year': 0.14129172106187576, 'success': 0.1291779694358687, 'deserve': 0.17892047051987342, 'decade': 0.17892047051987342, 'achieved': 0.21654921997787108, 'considering': 0.21654921997787108, 'giving': 0.21654921997787108, 'regret': 0.21654921997787108}), 15: defaultdict(<function compute_tf_idf.<locals>.<lambda>.<locals>.<lambda> at 0x7f7a7e508680>, {'year': 0.22606675369900123, 'perhaps': 0.34647875196459377, 'perseverance': 0.2862727528317975, 'finally': 0.34647875196459377, 'paid': 0.34647875196459377}), 51: defaultdict(<function compute_tf_idf.<locals>.<lambda>.<locals>.<lambda> at 0x7f7a7e508720>, {'give': 0.15690906313791325, 'know': 0.1291779694358687, 'want': 0.14129172106187576, 'development': 0.17892047051987342, 'focus': 0.21654921997787108, 'involved': 0.21654921997787108, 'take': 0.21654921997787108, 'plunge': 0.21654921997787108}), 39: defaultdict(<function compute_tf_idf.<locals>.<lambda>.<locals>.<lambda> at 0x7f7a7e5087c0>, {'give': 0.15690906313791325, 'action': 0.15690906313791325, 'life': 0.1291779694358687, 'nurture': 0.17892047051987342, 'daily': 0.17892047051987342, 'taking': 0.21654921997787108, 'purposeful': 0.21654921997787108, 'towards': 0.21654921997787108}), 3: defaultdict(<function compute_tf_idf.<locals>.<lambda>.<locals>.<lambda> at 0x7f7a7e508860>, {'experienced': 1.7323937598229686}), 4: defaultdict(<function compute_tf_idf.<locals>.<lambda>.<locals>.<lambda> at 0x7f7a7e508900>, {'honest': 0.8661968799114843, 'answer': 0.7156818820794937}), 37: defaultdict(<function compute_tf_idf.<locals>.<lambda>.<locals>.<lambda> at 0x7f7a7e5089a0>, {'answer': 0.20448053773699817, 'pursuing': 0.20448053773699817, 'goal': 0.16147625264214371, 'time': 0.17932464358618655, 'carve': 0.24748482283185264, 'discover': 0.24748482283185264, 'motivation': 0.24748482283185264}), 24: defaultdict(<function compute_tf_idf.<locals>.<lambda>.<locals>.<lambda> at 0x7f7a7e508a40>, {'tell': 0.07533493495573618, 'advice': 0.07533493495573618, 'often': 0.07533493495573618, 'problem': 0.054390723972997344, 'recall': 0.09117861893805097, 'passage': 0.09117861893805097, 'father': 0.09117861893805097, 'used': 0.09117861893805097, 'growing': 0.09117861893805097, 'unless': 0.09117861893805097, 'spent': 0.09117861893805097, 'week': 0.09117861893805097, 'trying': 0.09117861893805097, 'solve': 0.07533493495573618, 'echoed': 0.09117861893805097, 'mind': 0.07533493495573618, 'decade': 0.07533493495573618, 'became': 0.09117861893805097, 'motivator': 0.09117861893805097}), 5: defaultdict(<function compute_tf_idf.<locals>.<lambda>.<locals>.<lambda> at 0x7f7a7e508ae0>, {'tell': 0.2862727528317975, 'right': 0.22606675369900123, 'course': 0.34647875196459377, 'action': 0.25105450102066124, 'know': 0.20668475109738993}), 9: defaultdict(<function compute_tf_idf.<locals>.<lambda>.<locals>.<lambda> at 0x7f7a7e508b80>, {'right': 0.565166884247503, 'wrong': 0.8661968799114843}), 31: defaultdict(<function compute_tf_idf.<locals>.<lambda>.<locals>.<lambda> at 0x7f7a7e508c20>, {'right': 0.37677792283166867, 'settling': 0.5774645866076562, 'life': 0.34447458516231655}), 40: defaultdict(<function compute_tf_idf.<locals>.<lambda>.<locals>.<lambda> at 0x7f7a7e508cc0>, {'action': 0.1394747227892562, 'success': 0.11482486172077218, 'vision': 0.1394747227892562, 'daily': 0.1590404182398875, 'desire': 0.1924881955358854, 'dedication': 0.1924881955358854, 'patience': 0.1924881955358854, 'lead': 0.1924881955358854, 'astonishing': 0.1924881955358854}), 38: defaultdict(<function compute_tf_idf.<locals>.<lambda>.<locals>.<lambda> at 0x7f7a7e508d60>, {'know': 0.07127060382668618, 'best': 0.04935737117789612, 'hold': 0.04935737117789612, 'get': 0.09871474235579224, 'develop': 0.038977026499827795, 'powerful': 0.04935737117789612, 'vision': 0.043285258796665727, 'want': 0.11693107949948339, 'mind': 0.04935737117789612, 'life': 0.07127060382668618, 'fact': 0.059737715855964435, 'hand': 0.11947543171192887, 'may': 0.04935737117789612, 'interest': 0.059737715855964435, 'affirms': 0.059737715855964435, 'author': 0.059737715855964435, 'larry': 0.059737715855964435, 'weidel': 0.059737715855964435, 'winner': 0.059737715855964435, 'figure': 0.059737715855964435, 'whatever': 0.059737715855964435, 'key': 0.059737715855964435, 'image': 0.059737715855964435}), 18: defaultdict(<function compute_tf_idf.<locals>.<lambda>.<locals>.<lambda> at 0x7f7a7e508e00>, {'know': 0.039747067518728835, 'thing': 0.05505245246765336, 'person': 0.04827971173474254, 'one': 0.04827971173474254, 'even': 0.04827971173474254, 'effort': 0.06663052922396033, 'gritty': 0.06663052922396033, 'put': 0.05505245246765336, 'single': 0.06663052922396033, 'day': 0.13326105844792066, 'matter': 0.06663052922396033, 'wake': 0.06663052922396033, 'next': 0.11010490493530672, 'ready': 0.06663052922396033, 'get': 0.05505245246765336, 'treadmill': 0.06663052922396033, 'keep': 0.06663052922396033, 'certain': 0.06663052922396033, 'settle': 0.043474375711346394, 'le': 0.03670163497843557, 'capable': 0.06663052922396033, 'strive': 0.06663052922396033, 'something': 0.06663052922396033, 'bigger': 0.04827971173474254}), 7: defaultdict(<function compute_tf_idf.<locals>.<lambda>.<locals>.<lambda> at 0x7f7a7e508ea0>, {'failure': 0.06458898471793435, 'person': 0.15690906313791325, 'fixed': 0.10827460998893554, 'mindset': 0.17892047051987342, 'blow': 0.10827460998893554, 'yet': 0.08946023525993671, 'growth': 0.10827460998893554, 'opportunity': 0.10827460998893554, 'improve': 0.10827460998893554, 'find': 0.08946023525993671, 'new': 0.10827460998893554, 'way': 0.08946023525993671, 'overcome': 0.08946023525993671, 'obstacle': 0.10827460998893554}), 8: defaultdict(<function compute_tf_idf.<locals>.<lambda>.<locals>.<lambda> at 0x7f7a7e508f40>, {'failure': 0.2583559388717374, 'different': 0.3138181262758265, 'yet': 0.35784094103974684, 'response': 0.43309843995574215}), 41: defaultdict(<function compute_tf_idf.<locals>.<lambda>.<locals>.<lambda> at 0x7f7a7e508fe0>, {'failure': 0.11482486172077218, 'way': 0.1590404182398875, 'sign': 0.1590404182398875, 'life': 0.11482486172077218, 'willing': 0.1394747227892562, 'commit': 0.1590404182398875, 'jump': 0.1924881955358854, 'ship': 0.1924881955358854, 'first': 0.1924881955358854}), 23: defaultdict(<function compute_tf_idf.<locals>.<lambda>.<locals>.<lambda> at 0x7f7a7e509080>, {'goal': 0.05651668842475031, 'people': 0.06276362525516531, 'two': 0.08661968799114844, 'precipice': 0.08661968799114844, 'yosemite': 0.08661968799114844, 'valley': 0.08661968799114844, 'nathan': 0.08661968799114844, 'shipps': 0.08661968799114844, 'unsplash': 0.08661968799114844, 'develop': 0.05651668842475031, 'powerful': 0.07156818820794937, 'vision': 0.06276362525516531, 'want': 0.05651668842475031, 'problem': 0.05167118777434748, 'bridge': 0.08661968799114844, 'gap': 0.08661968799114844, 'exists': 0.08661968799114844, 'intend': 0.08661968799114844, 'earl': 0.08661968799114844, 'nightingale': 0.08661968799114844}), 50: defaultdict(<function compute_tf_idf.<locals>.<lambda>.<locals>.<lambda> at 0x7f7a7e509120>, {'dream': 0.47712125471966244, 'nurture': 0.7156818820794937}), 53: defaultdict(<function compute_tf_idf.<locals>.<lambda>.<locals>.<lambda> at 0x7f7a7e5091c0>, {'dream': 0.3180808364797749, 'leave': 0.41842416836776863, 'chance': 0.5774645866076562}), 45: defaultdict(<function compute_tf_idf.<locals>.<lambda>.<locals>.<lambda> at 0x7f7a7e509260>, {'mean': 0.11482486172077218, 'one': 0.1394747227892562, 'must': 0.1590404182398875, 'rely': 0.1924881955358854, 'true': 0.1924881955358854, 'constant': 0.1924881955358854, 'favor': 0.1924881955358854, 'personal': 0.1924881955358854, 'development': 0.1590404182398875}), 44: defaultdict(<function compute_tf_idf.<locals>.<lambda>.<locals>.<lambda> at 0x7f7a7e509300>, {'mean': 0.08611864629057914, 'endure': 0.11928031367991561, 'even': 0.10460604209194216, 'long': 0.10460604209194216, 'similarly': 0.14436614665191405, 'assurance': 0.14436614665191405, 'overnight': 0.14436614665191405, 'sensation': 0.14436614665191405, 'sustain': 0.14436614665191405, 'particularly': 0.14436614665191405, 'mental': 0.14436614665191405, 'emotional': 0.14436614665191405}), 11: defaultdict(<function compute_tf_idf.<locals>.<lambda>.<locals>.<lambda> at 0x7f7a7e5093a0>, {'different': 0.25105450102066124, 'person': 0.25105450102066124, 'mindset': 0.2862727528317975, 'decides': 0.34647875196459377, 'outcome': 0.34647875196459377}), 25: defaultdict(<function compute_tf_idf.<locals>.<lambda>.<locals>.<lambda> at 0x7f7a7e509440>, {'people': 0.15690906313791325, 'leave': 0.15690906313791325, 'outside': 0.17892047051987342, 'circumstance': 0.17892047051987342, 'motivate': 0.21654921997787108, 'let': 0.21654921997787108, 'every': 0.21654921997787108, 'time': 0.15690906313791325}), 27: defaultdict(<function compute_tf_idf.<locals>.<lambda>.<locals>.<lambda> at 0x7f7a7e5094e0>, {'find': 0.23856062735983122, 'away': 0.23856062735983122, 'problem': 0.17223729258115827, 'solve': 0.23856062735983122, 'gnaw': 0.2887322933038281, 'solution': 0.2887322933038281}), 28: defaultdict(<function compute_tf_idf.<locals>.<lambda>.<locals>.<lambda> at 0x7f7a7e509580>, {'overcome': 0.20448053773699817, 'problem': 0.14763196506956422, 'stop': 0.24748482283185264, 'sign': 0.20448053773699817, 'advising': 0.24748482283185264, 'work': 0.24748482283185264, 'required': 0.24748482283185264}), 10: defaultdict(<function compute_tf_idf.<locals>.<lambda>.<locals>.<lambda> at 0x7f7a7e509620>, {'neither': 1.7323937598229686}), 29: defaultdict(<function compute_tf_idf.<locals>.<lambda>.<locals>.<lambda> at 0x7f7a7e5096c0>, {'succeed': 0.1590404182398875, 'develop': 0.12559264094388956, 'problem': 0.11482486172077218, 'time': 0.1394747227892562, 'help': 0.1924881955358854, 'gain': 0.1590404182398875, 'skill': 0.1924881955358854, 'resource': 0.1590404182398875, 'later': 0.1590404182398875}), 46: defaultdict(<function compute_tf_idf.<locals>.<lambda>.<locals>.<lambda> at 0x7f7a7e509760>, {'success': 0.1291779694358687, 'gain': 0.17892047051987342, 'resource': 0.17892047051987342, 'grow': 0.21654921997787108, 'term': 0.21654921997787108, 'financial': 0.21654921997787108, 'status': 0.21654921997787108, 'simple': 0.21654921997787108}), 26: defaultdict(<function compute_tf_idf.<locals>.<lambda>.<locals>.<lambda> at 0x7f7a7e509800>, {'come': 0.47712125471966244, 'must': 0.47712125471966244, 'within': 0.5774645866076562}), 47: defaultdict(<function compute_tf_idf.<locals>.<lambda>.<locals>.<lambda> at 0x7f7a7e5098a0>, {'future': 0.17892047051987342, 'leave': 0.15690906313791325, 'outside': 0.17892047051987342, 'circumstance': 0.17892047051987342, 'condition': 0.21654921997787108, 'dictate': 0.21654921997787108, 'rolling': 0.21654921997787108, 'dice': 0.21654921997787108}), 34: defaultdict(<function compute_tf_idf.<locals>.<lambda>.<locals>.<lambda> at 0x7f7a7e509940>, {'whether': 0.1590404182398875, 'put': 0.1590404182398875, 'settle': 0.12559264094388956, 'le': 0.1060269454932583, 'willing': 0.1394747227892562, 'ask': 0.1590404182398875, 'question': 0.1590404182398875, 'decide': 0.1924881955358854, 'line': 0.1924881955358854}), 42: defaultdict(<function compute_tf_idf.<locals>.<lambda>.<locals>.<lambda> at 0x7f7a7e5099e0>, {'next': 0.11010490493530672, 'ask': 0.11010490493530672, 'question': 0.11010490493530672, 'amused': 0.13326105844792066, 'read': 0.13326105844792066, 'written': 0.13326105844792066, 'millennials': 0.13326105844792066, 'quora': 0.13326105844792066, 'become': 0.11010490493530672, 'rich': 0.13326105844792066, 'famous': 0.13326105844792066, 'elon': 0.13326105844792066, 'musk': 0.13326105844792066}), 22: defaultdict(<function compute_tf_idf.<locals>.<lambda>.<locals>.<lambda> at 0x7f7a7e509a80>, {'settle': 0.14129172106187576, 'le': 0.23856062735983122, 'receive': 0.35784094103974684, 'deserve': 0.17892047051987342, 'convince': 0.21654921997787108, 'justified': 0.21654921997787108}), 35: defaultdict(<function compute_tf_idf.<locals>.<lambda>.<locals>.<lambda> at 0x7f7a7e509b20>, {'le': 0.13632035849133212, 'receive': 0.20448053773699817, 'later': 0.20448053773699817, 'fine': 0.24748482283185264, 'content': 0.24748482283185264, 'long': 0.17932464358618655, 'regretful': 0.24748482283185264}), 32: defaultdict(<function compute_tf_idf.<locals>.<lambda>.<locals>.<lambda> at 0x7f7a7e509bc0>, {'bigger': 0.3138181262758265, 'could': 0.43309843995574215, 'playing': 0.43309843995574215, 'stake': 0.43309843995574215}), 19: defaultdict(<function compute_tf_idf.<locals>.<lambda>.<locals>.<lambda> at 0x7f7a7e509c60>, {'reading': 0.20448053773699817, 'might': 0.20448053773699817, 'identify': 0.24748482283185264, 'message': 0.20448053773699817, 'resonates': 0.24748482283185264, 'deeper': 0.24748482283185264, 'level': 0.24748482283185264}), 20: defaultdict(<function compute_tf_idf.<locals>.<lambda>.<locals>.<lambda> at 0x7f7a7e509d00>, {'might': 0.1590404182398875, 'message': 0.1590404182398875, 'others': 0.1924881955358854, 'end': 0.1924881955358854, 'tether': 0.1924881955358854, 'nothing': 0.1924881955358854, 'trivial': 0.1924881955358854, 'pep': 0.1924881955358854, 'talk': 0.1924881955358854}), 48: defaultdict(<function compute_tf_idf.<locals>.<lambda>.<locals>.<lambda> at 0x7f7a7e509da0>, {'want': 0.2825834421237515, 'life': 0.2583559388717374, 'become': 0.35784094103974684, 'intentional': 0.43309843995574215}), 49: defaultdict(<function compute_tf_idf.<locals>.<lambda>.<locals>.<lambda> at 0x7f7a7e509e40>, {'commit': 1.4313637641589874})})\n"
     ]
    }
   ],
   "source": [
    "tf_idf = compute_tf_idf(sentences, dictionary, lemmatizer)\n",
    "\n",
    "print(tf_idf)"
   ]
  },
  {
   "cell_type": "code",
   "execution_count": 31,
   "id": "59c35800",
   "metadata": {},
   "outputs": [],
   "source": [
    "def score_sentences2(sentences, tf_idf, lemmatizer: WordNetLemmatizer):\n",
    "    sentence_score = dict()\n",
    "\n",
    "    for idx, sentence in enumerate(sentences):\n",
    "        relevant_tokens = 0\n",
    "        score = 0\n",
    "        \n",
    "        for token in word_tokenize(sentence.lower()):\n",
    "            token = lemmatizer.lemmatize(token)\n",
    "\n",
    "            if token in tf_idf[idx]:\n",
    "                relevant_tokens += 1\n",
    "                score += tf_idf[idx][token]\n",
    "        \n",
    "        sentence_score[idx] = score / relevant_tokens\n",
    "\n",
    "    return sentence_score"
   ]
  },
  {
   "cell_type": "code",
   "execution_count": 34,
   "id": "09a5f7bb",
   "metadata": {},
   "outputs": [
    {
     "name": "stdout",
     "output_type": "stream",
     "text": [
      "[(0, 0.09303070922192891), (1, 0.2962678517604615), (2, 0.1206603480602574)]\n"
     ]
    }
   ],
   "source": [
    "scores2 = score_sentences2(sentences, tf_idf, lemmatizer)\n",
    "\n",
    "print(list(scores2.items())[:3])"
   ]
  },
  {
   "cell_type": "code",
   "execution_count": 35,
   "id": "961598f9",
   "metadata": {},
   "outputs": [
    {
     "name": "stdout",
     "output_type": "stream",
     "text": [
      "avg_score 0.3126222712255653\n",
      "threshold 0.4064089525932349\n"
     ]
    }
   ],
   "source": [
    "avg_score2 = average_score(scores2)\n",
    "print('avg_score', avg_score2)\n",
    "\n",
    "alpha = 1.3\n",
    "\n",
    "threshold2 = avg_score2 * alpha\n",
    "print('threshold', threshold2)"
   ]
  },
  {
   "cell_type": "code",
   "execution_count": 36,
   "id": "98a7f921",
   "metadata": {},
   "outputs": [
    {
     "name": "stdout",
     "output_type": "stream",
     "text": [
      "Original text is composed by 54 sentences\n",
      "Summary is composed by 10 sentences\n"
     ]
    }
   ],
   "source": [
    "summary2, sentence_count2 = generate_summary(sentences, scores2, threshold2)\n",
    "\n",
    "print('Original text is composed by {} sentences'.format(len(sentences)))\n",
    "print('Summary is composed by {} sentences'.format(sentence_count2))"
   ]
  },
  {
   "cell_type": "code",
   "execution_count": 38,
   "id": "5f4d4d16",
   "metadata": {},
   "outputs": [
    {
     "name": "stdout",
     "output_type": "stream",
     "text": [
      "Have you experienced this before? To be honest, I don’t have the answers. Who is right and who is wrong? Neither. It was at that point their biggest breakthrough came. It must come from within you. Where are you settling in your life right now? Commit to it. Nurture your dreams. Don’t leave your dreams to chance.\n"
     ]
    }
   ],
   "source": [
    "print(summary2)"
   ]
  },
  {
   "attachments": {},
   "cell_type": "markdown",
   "id": "f05dac64",
   "metadata": {},
   "source": [
    "# Approccio 3: Embedding\n",
    "\n",
    "Idea: vettorizziamo il testo e le singole frasi, poi le compariamo con un classificatore binario.\n",
    "\n",
    "Dobbiamo calcolare le funzioni di vettorizzazione e quella di comparazione.\n",
    "\n",
    "Utilizziamo un approccio basato su reti neurali.\n",
    "\n",
    "Embedding basato su self-attention\n",
    "\n",
    "Compare basato su cosine similarity"
   ]
  }
 ],
 "metadata": {
  "kernelspec": {
   "display_name": "Python 3 (ipykernel)",
   "language": "python",
   "name": "python3"
  },
  "language_info": {
   "codemirror_mode": {
    "name": "ipython",
    "version": 3
   },
   "file_extension": ".py",
   "mimetype": "text/x-python",
   "name": "python",
   "nbconvert_exporter": "python",
   "pygments_lexer": "ipython3",
   "version": "3.11.4"
  }
 },
 "nbformat": 4,
 "nbformat_minor": 5
}
